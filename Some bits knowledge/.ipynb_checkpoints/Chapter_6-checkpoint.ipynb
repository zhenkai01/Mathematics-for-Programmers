{
 "cells": [
  {
   "cell_type": "markdown",
   "id": "d6ef5c4a-c003-49d0-aac9-91ae23f59318",
   "metadata": {},
   "source": [
    "### 问题一 汉诺塔问题"
   ]
  },
  {
   "cell_type": "code",
   "execution_count": 1,
   "id": "02fccdfc-4b62-4981-9d18-eae10cb543c2",
   "metadata": {},
   "outputs": [
    {
     "name": "stdout",
     "output_type": "stream",
     "text": [
      "a --> c\n",
      "a --> b\n",
      "c --> b\n",
      "a --> c\n",
      "b --> a\n",
      "b --> c\n",
      "a --> c\n"
     ]
    }
   ],
   "source": [
    "def move(n, a, buffer, c):\n",
    "    # n表示盘子数量 ， buffer也就是b柱, 用以缓冲, C是目标柱子\n",
    "    if (n == 1):\n",
    "        print(a, \"-->\", c)\n",
    "        return\n",
    "    else:\n",
    "        move(n-1, a, c, buffer)\n",
    "        move(1, a, buffer, c)\n",
    "        move(n-1, buffer, a, c)\n",
    "\n",
    "move(3, \"a\", \"b\", \"c\")"
   ]
  },
  {
   "cell_type": "code",
   "execution_count": 7,
   "id": "8493f1f4-484a-4ede-a7af-8a25e1e5d1ae",
   "metadata": {},
   "outputs": [
    {
     "name": "stdout",
     "output_type": "stream",
     "text": [
      "Column a ---> Column c\n"
     ]
    }
   ],
   "source": [
    "# 递归解法\n",
    "def hanoi(n, a, buffer, c):\n",
    "    if n > 0:\n",
    "        hanoi(n-1, a, c, buffer)\n",
    "        print(f'Column {a} ---> Column {c}')\n",
    "        hanoi(n-1, buffer, a, c)\n",
    "hanoi(1, 'a', 'b', 'c')"
   ]
  },
  {
   "cell_type": "code",
   "execution_count": 9,
   "id": "f5b0561c-9be9-4dc3-93ae-98b1d2d34f44",
   "metadata": {},
   "outputs": [
    {
     "name": "stdout",
     "output_type": "stream",
     "text": [
      "Column a ---> Column b\n",
      "Column a ---> Column c\n",
      "Column b ---> Column c\n"
     ]
    }
   ],
   "source": [
    "hanoi(2, 'a', 'b', 'c')"
   ]
  },
  {
   "cell_type": "code",
   "execution_count": 11,
   "id": "35544bdc-cd08-4566-8790-5f3a9ce06c95",
   "metadata": {},
   "outputs": [
    {
     "name": "stdout",
     "output_type": "stream",
     "text": [
      "Column a ---> Column c\n",
      "Column a ---> Column b\n",
      "Column c ---> Column b\n",
      "Column a ---> Column c\n",
      "Column b ---> Column a\n",
      "Column b ---> Column c\n",
      "Column a ---> Column c\n"
     ]
    }
   ],
   "source": [
    "hanoi(3, \"a\", \"b\", \"c\")"
   ]
  },
  {
   "cell_type": "markdown",
   "id": "45c54278-ff48-4cd7-a54d-9e5a6437f149",
   "metadata": {},
   "source": [
    "### 问题二  阶乘"
   ]
  },
  {
   "cell_type": "code",
   "execution_count": 19,
   "id": "a617bc42-403a-4c64-b30f-94159df65fd8",
   "metadata": {},
   "outputs": [
    {
     "name": "stdin",
     "output_type": "stream",
     "text": [
      "Enter a number:  10\n"
     ]
    },
    {
     "name": "stdout",
     "output_type": "stream",
     "text": [
      "1\n",
      "2\n",
      "6\n",
      "24\n",
      "120\n",
      "720\n",
      "5040\n",
      "40320\n",
      "362880\n",
      "3628800\n"
     ]
    }
   ],
   "source": [
    "# 使用 普通for循环求解\n",
    "a  = 1\n",
    "n = int(input(\"Enter a number: \"))\n",
    "for i in range(1, n+1):\n",
    "    a *= i\n",
    "    print(a)"
   ]
  },
  {
   "cell_type": "code",
   "execution_count": 21,
   "id": "dbef371a-7027-4921-9f47-05986ba23c87",
   "metadata": {},
   "outputs": [
    {
     "name": "stdin",
     "output_type": "stream",
     "text": [
      "Enter a number:  6\n"
     ]
    },
    {
     "name": "stdout",
     "output_type": "stream",
     "text": [
      "720\n"
     ]
    }
   ],
   "source": [
    "# 使用math模块中的factorial()函数来计算阶乘\n",
    "import math\n",
    "n = int(input(\"Enter a number: \"))\n",
    "print(math.factorial(n))"
   ]
  },
  {
   "cell_type": "code",
   "execution_count": 25,
   "id": "795b41c0-e48e-47f0-ada8-b6773b5ea55c",
   "metadata": {},
   "outputs": [
    {
     "name": "stdin",
     "output_type": "stream",
     "text": [
      "Enter a number:  7\n"
     ]
    },
    {
     "name": "stdout",
     "output_type": "stream",
     "text": [
      "5040\n"
     ]
    }
   ],
   "source": [
    "# 使用递归函数来计算阶乘\n",
    "def factorial(n):\n",
    "    if n == 1:\n",
    "        return 1\n",
    "    else:\n",
    "        return (n*factorial(n-1))\n",
    "\n",
    "n = int(input(\"Enter a number: \"))\n",
    "print(factorial(n))"
   ]
  },
  {
   "cell_type": "code",
   "execution_count": 27,
   "id": "1b65380a-7b8b-4df3-a98a-c631903542ce",
   "metadata": {},
   "outputs": [
    {
     "name": "stdin",
     "output_type": "stream",
     "text": [
      "Enter a number:  8\n"
     ]
    },
    {
     "name": "stdout",
     "output_type": "stream",
     "text": [
      "40320\n"
     ]
    }
   ],
   "source": [
    "# 使用三元表达式\n",
    "def factorial(n):\n",
    "    return 1 if n<2 else n*factorial(n-1)\n",
    "\n",
    "n = int(input(\"Enter a number: \"))\n",
    "print(factorial(n))"
   ]
  },
  {
   "cell_type": "markdown",
   "id": "8de0829f-4db9-4a4e-b8be-c03fefc8665f",
   "metadata": {},
   "source": [
    "### 问题三 斐波那契数列"
   ]
  },
  {
   "cell_type": "code",
   "execution_count": 34,
   "id": "3eb99c18-3b5c-4e91-901b-d3d1e7f44f98",
   "metadata": {},
   "outputs": [
    {
     "name": "stdin",
     "output_type": "stream",
     "text": [
      "Enter a number:  5\n"
     ]
    },
    {
     "name": "stdout",
     "output_type": "stream",
     "text": [
      "5\n"
     ]
    }
   ],
   "source": [
    "# 递归求解 直观且高效但是效率低下存在很多重复计算\n",
    "def fib(n):\n",
    "    if n == 0:\n",
    "        return 0\n",
    "    elif n==1:\n",
    "        return 1\n",
    "    else:\n",
    "        return fib(n-1) + fib(n-2)\n",
    "\n",
    "n = int(input(\"Enter a number: \"))\n",
    "print(fib(n))"
   ]
  },
  {
   "cell_type": "code",
   "execution_count": 32,
   "id": "357f6764-ec24-4e4b-aa0b-ee8c80dc8ee4",
   "metadata": {},
   "outputs": [
    {
     "name": "stdout",
     "output_type": "stream",
     "text": [
      "1\n",
      "1\n",
      "2\n",
      "3\n",
      "5\n",
      "8\n",
      "13\n",
      "21\n",
      "34\n",
      "55\n"
     ]
    }
   ],
   "source": [
    "for i in range(1, 11):\n",
    "    print(fib(i))"
   ]
  },
  {
   "cell_type": "code",
   "execution_count": 36,
   "id": "387c4b63-c017-4ff8-b79c-00345a61f9cd",
   "metadata": {},
   "outputs": [
    {
     "name": "stdout",
     "output_type": "stream",
     "text": [
      "1  1  2  3  5  8  13  21  34  55  89  144  233  377  610  987  1597  2584  4181  6765  "
     ]
    }
   ],
   "source": [
    "# 递推法 也叫递增法 时间复杂度为O(n), 如果数据量过大，速度就会拖慢\n",
    "def fib_loop(n):\n",
    "    a, b =0, 1\n",
    "    for i in range(n+1):\n",
    "        a, b = b, a+b\n",
    "    return a\n",
    "\n",
    "for i in range(20):\n",
    "    print(fib_loop(i), end='  ')"
   ]
  },
  {
   "cell_type": "code",
   "execution_count": 40,
   "id": "bf2f202b-9aaf-443b-91d9-09059cefafd3",
   "metadata": {},
   "outputs": [
    {
     "name": "stdout",
     "output_type": "stream",
     "text": [
      "1  1  2  3  5  8  13  21  34  55  89  144  233  377  610  987  1597  2584  4181  6765  "
     ]
    }
   ],
   "source": [
    "# 生成器\n",
    "def fib_yield(n):\n",
    "    a, b =0, 1\n",
    "    for i in range(0, n):\n",
    "        a,b = b, a+b\n",
    "        yield a\n",
    "\n",
    "for i in fib_yield(20):\n",
    "    print(i, end='  ')"
   ]
  },
  {
   "cell_type": "code",
   "execution_count": 42,
   "id": "56c0cd69-4eb7-4aa9-b870-111c46a85ea9",
   "metadata": {},
   "outputs": [],
   "source": [
    "#  补充知识， 迭代器和生成器\n",
    "# 迭代是Python最强大的功能之一，是访问集合元素的一种方式\n",
    "# 迭代器是一个可以记住遍历的位置的对象\n",
    "# 迭代器可以从集合的第一个元素开始访问之道所有元素被访问结束，迭代器只能往前不会后退\n",
    "# 迭代器有两种基本方法 ： iter() 和 next()\n",
    "# 字符串， 列表 和 元组 对象都可以用于创建迭代器。"
   ]
  },
  {
   "cell_type": "code",
   "execution_count": 45,
   "id": "1f40a2b3-ab0d-4339-9c77-644ffab579ec",
   "metadata": {},
   "outputs": [],
   "source": [
    "list = [1, 2, 3, 4]\n",
    "it = iter(list)"
   ]
  },
  {
   "cell_type": "code",
   "execution_count": 47,
   "id": "6e402673-408c-4426-9e2a-541fbac98637",
   "metadata": {},
   "outputs": [
    {
     "name": "stdout",
     "output_type": "stream",
     "text": [
      "1\n"
     ]
    }
   ],
   "source": [
    "print(next(it))"
   ]
  },
  {
   "cell_type": "code",
   "execution_count": 49,
   "id": "575621eb-aaa4-4fe8-a9a5-d87a3b63d666",
   "metadata": {},
   "outputs": [
    {
     "name": "stdout",
     "output_type": "stream",
     "text": [
      "2\n"
     ]
    }
   ],
   "source": [
    "print(next(it))"
   ]
  },
  {
   "cell_type": "code",
   "execution_count": 51,
   "id": "e2ae56a7-5572-4d4c-9a1d-abd764198c4a",
   "metadata": {},
   "outputs": [
    {
     "name": "stdout",
     "output_type": "stream",
     "text": [
      "3\n"
     ]
    }
   ],
   "source": [
    "print(next(it))"
   ]
  },
  {
   "cell_type": "code",
   "execution_count": 53,
   "id": "d0db8beb-3739-43c8-83d2-b78705a88fdc",
   "metadata": {},
   "outputs": [
    {
     "name": "stdout",
     "output_type": "stream",
     "text": [
      "4\n"
     ]
    }
   ],
   "source": [
    "print(next(it))"
   ]
  },
  {
   "cell_type": "code",
   "execution_count": 55,
   "id": "712a0959-2907-4709-a036-f84efef30b5b",
   "metadata": {},
   "outputs": [
    {
     "ename": "StopIteration",
     "evalue": "",
     "output_type": "error",
     "traceback": [
      "\u001b[1;31m---------------------------------------------------------------------------\u001b[0m",
      "\u001b[1;31mStopIteration\u001b[0m                             Traceback (most recent call last)",
      "Cell \u001b[1;32mIn[55], line 1\u001b[0m\n\u001b[1;32m----> 1\u001b[0m \u001b[38;5;28mprint\u001b[39m(\u001b[38;5;28mnext\u001b[39m(it))\n",
      "\u001b[1;31mStopIteration\u001b[0m: "
     ]
    }
   ],
   "source": [
    "print(next(it))"
   ]
  },
  {
   "cell_type": "code",
   "execution_count": 59,
   "id": "5fb68651-2d3c-45b4-b6be-b6050ecb02b3",
   "metadata": {},
   "outputs": [
    {
     "name": "stdout",
     "output_type": "stream",
     "text": [
      "1 2 3 4 "
     ]
    }
   ],
   "source": [
    "list=[1,2,3,4]\n",
    "it = iter(list) \n",
    "for x in it:\n",
    "    print(x, end=' ')"
   ]
  },
  {
   "cell_type": "code",
   "execution_count": 61,
   "id": "da032e83-2115-43d1-b247-f97695eac40a",
   "metadata": {},
   "outputs": [
    {
     "name": "stdout",
     "output_type": "stream",
     "text": [
      "1\n",
      "2\n",
      "3\n",
      "4\n"
     ]
    },
    {
     "ename": "SystemExit",
     "evalue": "",
     "output_type": "error",
     "traceback": [
      "An exception has occurred, use %tb to see the full traceback.\n",
      "\u001b[1;31mSystemExit\u001b[0m\n"
     ]
    },
    {
     "name": "stderr",
     "output_type": "stream",
     "text": [
      "D:\\Application\\Anaconda3\\Lib\\site-packages\\IPython\\core\\interactiveshell.py:3585: UserWarning: To exit: use 'exit', 'quit', or Ctrl-D.\n",
      "  warn(\"To exit: use 'exit', 'quit', or Ctrl-D.\", stacklevel=1)\n"
     ]
    }
   ],
   "source": [
    "import sys         # 引入 sys 模块\n",
    " \n",
    "list=[1,2,3,4]\n",
    "it = iter(list) \n",
    "\n",
    "while True:\n",
    "    try:\n",
    "        print (next(it))\n",
    "    except StopIteration:\n",
    "        sys.exit()"
   ]
  },
  {
   "cell_type": "code",
   "execution_count": 66,
   "id": "e2dc92ec-5ad4-46cf-abe8-d3fd3077657a",
   "metadata": {},
   "outputs": [
    {
     "name": "stdout",
     "output_type": "stream",
     "text": [
      "1\n"
     ]
    }
   ],
   "source": [
    "# # 创建一个迭代器\n",
    "# 把一个类作为迭代器使用需要在类中实现两个方法__iter__() 和 __next__()\n",
    "# 类都有一个构造函数，Python 的构造函数为 __init__(), 它会在对象初始化的时候执行。\n",
    "# __iter__() 方法返回一个特殊的迭代器对象， 这个迭代器对象实现了__next__()方法 并通过 StopIteration 异常标识迭代完成\n",
    "# __next__() 方法会返回下一个迭代器对象\n",
    "class MyNumbers:\n",
    "    def __iter__(self):\n",
    "        self.a = 1\n",
    "        return self\n",
    "\n",
    "    def __next__(self):\n",
    "        x = self.a\n",
    "        self.a += 1\n",
    "        return x\n",
    "\n",
    "myclass = MyNumbers()\n",
    "myiter = iter(myclass)\n",
    "\n",
    "print(next(myclass))"
   ]
  },
  {
   "cell_type": "code",
   "execution_count": 68,
   "id": "f1552423-8665-42d2-99f1-be7ef616432c",
   "metadata": {},
   "outputs": [
    {
     "name": "stdout",
     "output_type": "stream",
     "text": [
      "2\n"
     ]
    }
   ],
   "source": [
    "print(next(myclass))"
   ]
  },
  {
   "cell_type": "code",
   "execution_count": 70,
   "id": "d4f1ad36-7182-4ca2-aacd-59f512092a27",
   "metadata": {},
   "outputs": [
    {
     "name": "stdout",
     "output_type": "stream",
     "text": [
      "3\n"
     ]
    }
   ],
   "source": [
    "print(next(myclass))"
   ]
  },
  {
   "cell_type": "code",
   "execution_count": 72,
   "id": "061cce8b-d6ac-4b29-ab5a-f9a787a62366",
   "metadata": {},
   "outputs": [
    {
     "name": "stdout",
     "output_type": "stream",
     "text": [
      "1\n",
      "2\n",
      "3\n",
      "4\n",
      "5\n",
      "6\n",
      "7\n",
      "8\n",
      "9\n",
      "10\n",
      "11\n",
      "12\n",
      "13\n",
      "14\n",
      "15\n",
      "16\n",
      "17\n",
      "18\n",
      "19\n",
      "20\n"
     ]
    }
   ],
   "source": [
    "# StopIteration 异常用于标识迭代的完成，防止出现无限循环的情况，在 __next__() 方法中我们可以设置在完成指定循环次数后触发 StopIteration 异常来结束迭代。\n",
    "# 在 20 次迭代后停止执行\n",
    "class MyNumbers:\n",
    "  def __iter__(self):\n",
    "    self.a = 1\n",
    "    return self\n",
    " \n",
    "  def __next__(self):\n",
    "    if self.a <= 20:\n",
    "      x = self.a\n",
    "      self.a += 1\n",
    "      return x\n",
    "    else:\n",
    "      raise StopIteration\n",
    " \n",
    "myclass = MyNumbers()\n",
    "myiter = iter(myclass)\n",
    " \n",
    "for x in myiter:\n",
    "  print(x)"
   ]
  },
  {
   "cell_type": "code",
   "execution_count": 74,
   "id": "4b141466-f0e2-4d5c-9779-68a4c93bcedf",
   "metadata": {},
   "outputs": [],
   "source": [
    "# 生成器\n",
    "# 在Python 使用yield的函数被称为生成器\n",
    "# yield是一个关键字，用于定义生成器函数， 生成器函数是一种特殊的函数，在迭代过程中可以逐步产生值， 而不是一次性返回所有值\n",
    "# 跟普通函数不同的是 ，生成器是一个返回迭代器的函数， 只能用于迭代操作 更简单理解生成器就是一个迭代器\n",
    "# 当在生成器函数中使用 yield 语句时，函数的执行将会暂停，并将 yield 后面的表达式作为当前迭代的值返回。\n",
    "# 然后，每次调用生成器的 next() 方法或使用 for 循环进行迭代时，函数会从上次暂停的地方继续执行，直到再次遇到 yield 语句。\n",
    "\n",
    "# 这样，生成器函数可以逐步产生值，而不需要一次性计算并返回所有结果。\n",
    "\n",
    "# 调用一个生成器函数，返回的是一个迭代器对象。\n"
   ]
  },
  {
   "cell_type": "code",
   "execution_count": 76,
   "id": "516380fd-5808-4980-a18f-711130c7a94b",
   "metadata": {},
   "outputs": [
    {
     "name": "stdout",
     "output_type": "stream",
     "text": [
      "5\n"
     ]
    }
   ],
   "source": [
    "def cutdown(n):\n",
    "    while n > 0:\n",
    "        yield n\n",
    "        n -= 1\n",
    "\n",
    "# 创建生成器对象\n",
    "generator = cutdown(5)\n",
    "\n",
    "print(next(generator))"
   ]
  },
  {
   "cell_type": "code",
   "execution_count": 78,
   "id": "e9f54526-ff1e-4b4f-aee5-84d0c2d5b4e5",
   "metadata": {},
   "outputs": [
    {
     "name": "stdout",
     "output_type": "stream",
     "text": [
      "4\n"
     ]
    }
   ],
   "source": [
    "print(next(generator))"
   ]
  },
  {
   "cell_type": "code",
   "execution_count": 80,
   "id": "305d9224-6ef2-4d83-8960-532e338a6300",
   "metadata": {},
   "outputs": [
    {
     "name": "stdout",
     "output_type": "stream",
     "text": [
      "3\n"
     ]
    }
   ],
   "source": [
    "print(next(generator))"
   ]
  },
  {
   "cell_type": "code",
   "execution_count": 82,
   "id": "dccab647-6931-4208-b0c2-c4812b58567d",
   "metadata": {},
   "outputs": [
    {
     "name": "stdout",
     "output_type": "stream",
     "text": [
      "2\n"
     ]
    }
   ],
   "source": [
    "print(next(generator))"
   ]
  },
  {
   "cell_type": "code",
   "execution_count": 84,
   "id": "d858e4bf-9edd-4a62-b230-2f6e5b7d5373",
   "metadata": {},
   "outputs": [
    {
     "name": "stdout",
     "output_type": "stream",
     "text": [
      "1\n"
     ]
    }
   ],
   "source": [
    "print(next(generator))"
   ]
  },
  {
   "cell_type": "code",
   "execution_count": 86,
   "id": "15b50a36-f4b5-4c0d-832d-f04ab5fc437f",
   "metadata": {},
   "outputs": [
    {
     "ename": "StopIteration",
     "evalue": "",
     "output_type": "error",
     "traceback": [
      "\u001b[1;31m---------------------------------------------------------------------------\u001b[0m",
      "\u001b[1;31mStopIteration\u001b[0m                             Traceback (most recent call last)",
      "Cell \u001b[1;32mIn[86], line 1\u001b[0m\n\u001b[1;32m----> 1\u001b[0m \u001b[38;5;28mprint\u001b[39m(\u001b[38;5;28mnext\u001b[39m(generator))\n",
      "\u001b[1;31mStopIteration\u001b[0m: "
     ]
    }
   ],
   "source": [
    "print(next(generator))"
   ]
  },
  {
   "cell_type": "code",
   "execution_count": 88,
   "id": "fcf59d1c-e3a2-4308-919f-5a6d37104244",
   "metadata": {},
   "outputs": [
    {
     "name": "stdout",
     "output_type": "stream",
     "text": [
      "5\n",
      "4\n",
      "3\n",
      "2\n",
      "1\n"
     ]
    }
   ],
   "source": [
    "def cutdown(n):\n",
    "    while n > 0:\n",
    "        yield n\n",
    "        n -= 1\n",
    "\n",
    "# 创建生成器对象\n",
    "generator = cutdown(5)\n",
    "\n",
    "for i in generator:\n",
    "    print(i)"
   ]
  },
  {
   "cell_type": "code",
   "execution_count": 90,
   "id": "2bd5e7c0-728a-4990-b049-f7ba7689fca4",
   "metadata": {},
   "outputs": [
    {
     "name": "stdout",
     "output_type": "stream",
     "text": [
      "0 1 1 2 3 5 8 13 21 34 55 "
     ]
    },
    {
     "ename": "SystemExit",
     "evalue": "",
     "output_type": "error",
     "traceback": [
      "An exception has occurred, use %tb to see the full traceback.\n",
      "\u001b[1;31mSystemExit\u001b[0m\n"
     ]
    }
   ],
   "source": [
    "# 使用 yield 实现斐波那契数列：\n",
    "import sys\n",
    "def fib(n):\n",
    "    a, b, counter = 0, 1, 0\n",
    "    while True:\n",
    "        if (counter > n):\n",
    "            return\n",
    "        yield a\n",
    "        a, b = b, a+b\n",
    "        counter += 1\n",
    "\n",
    "f = fib(10)\n",
    "while True:\n",
    "    try :\n",
    "        print(next(f), end=' ')\n",
    "    except StopIteration:\n",
    "        sys.exit()"
   ]
  },
  {
   "cell_type": "code",
   "execution_count": 92,
   "id": "2831d23b-cf54-4207-9ec8-1ed2affe96ea",
   "metadata": {},
   "outputs": [
    {
     "name": "stdout",
     "output_type": "stream",
     "text": [
      "1\n",
      "1\n",
      "2\n",
      "3\n",
      "5\n"
     ]
    }
   ],
   "source": [
    "def fab(max):\n",
    "    n, a, b = 0, 0, 1\n",
    "    l= []\n",
    "    while n < max:\n",
    "        l.append(b)\n",
    "        a, b = b, a+b\n",
    "        n += 1\n",
    "    return l\n",
    "\n",
    "\n",
    "for i in fab(5):\n",
    "    print(i)"
   ]
  },
  {
   "cell_type": "code",
   "execution_count": 98,
   "id": "65b670cd-0ec4-43b8-8eee-07517936a6ff",
   "metadata": {},
   "outputs": [
    {
     "ename": "TypeError",
     "evalue": "iter() returned non-iterator of type 'Fab'",
     "output_type": "error",
     "traceback": [
      "\u001b[1;31m---------------------------------------------------------------------------\u001b[0m",
      "\u001b[1;31mTypeError\u001b[0m                                 Traceback (most recent call last)",
      "Cell \u001b[1;32mIn[98], line 18\u001b[0m\n\u001b[0;32m     15\u001b[0m             \u001b[38;5;28;01mreturn\u001b[39;00m r \n\u001b[0;32m     16\u001b[0m         \u001b[38;5;28;01mraise\u001b[39;00m \u001b[38;5;167;01mStopIteration\u001b[39;00m()\n\u001b[1;32m---> 18\u001b[0m \u001b[38;5;28;01mfor\u001b[39;00m n \u001b[38;5;129;01min\u001b[39;00m Fab(\u001b[38;5;241m5\u001b[39m): \n\u001b[0;32m     19\u001b[0m     \u001b[38;5;28mprint\u001b[39m(n)\n",
      "\u001b[1;31mTypeError\u001b[0m: iter() returned non-iterator of type 'Fab'"
     ]
    }
   ],
   "source": [
    "class Fab(object): \n",
    " \n",
    "    def __init__(self, max): \n",
    "        self.max = max \n",
    "        self.n, self.a, self.b = 0, 0, 1 \n",
    " \n",
    "    def __iter__(self): \n",
    "        return self \n",
    " \n",
    "    def next(self): \n",
    "        if self.n < self.max: \n",
    "            r = self.b \n",
    "            self.a, self.b = self.b, self.a + self.b \n",
    "            self.n = self.n + 1 \n",
    "            return r \n",
    "        raise StopIteration()\n",
    " \n",
    "for n in Fab(5): \n",
    "    print(n)"
   ]
  },
  {
   "cell_type": "code",
   "execution_count": 100,
   "id": "65ecf0df-f1ad-43a9-83c3-5eeda064ee65",
   "metadata": {},
   "outputs": [],
   "source": [
    "# 另一个 yield 的例子来源于文件读取。如果直接对文件对象调用 read() 方法，会导致不可预测的内存占用。\n",
    "# 好的方法是利用固定长度的缓冲区来不断读取文件内容。\n",
    "# 通过 yield，我们不再需要编写读文件的迭代类，就可以轻松实现文件读取\n",
    "def read_file(fpath):\n",
    "    BLOCK_SIZE = 1024\n",
    "    with open(fpath, 'rb') as f:\n",
    "        while True:\n",
    "            block = f.read(BLOCK_SIZE)\n",
    "            if block:\n",
    "                yield block\n",
    "            else:\n",
    "                return"
   ]
  },
  {
   "cell_type": "code",
   "execution_count": 102,
   "id": "bc175050-4ad5-4b33-9016-98d4cd48c43c",
   "metadata": {},
   "outputs": [],
   "source": [
    "#  使用矩阵计算\n"
   ]
  },
  {
   "cell_type": "code",
   "execution_count": 104,
   "id": "482b2290-77ab-4b14-8598-11d0621e69b2",
   "metadata": {},
   "outputs": [],
   "source": [
    "# 动态规划  时间复杂度O(n), 空间复杂度O(1)\n",
    "def fib_dp(n):\n",
    "    if n <= 1:\n",
    "        return n\n",
    "    dp = [0] * (n+1)\n",
    "    dp[1] = 1\n",
    "    for i in range(2, n+1):\n",
    "        dp[i] = dp[i-1] + dp[i-2]\n",
    "    return dp[n]"
   ]
  },
  {
   "cell_type": "markdown",
   "id": "e7b2f827-0c21-40fd-affd-757e30e7c174",
   "metadata": {},
   "source": [
    "### 帕斯卡三角形"
   ]
  },
  {
   "cell_type": "code",
   "execution_count": 107,
   "id": "ef724805-5baf-4cee-b1b2-d3413cd7b765",
   "metadata": {},
   "outputs": [
    {
     "name": "stdin",
     "output_type": "stream",
     "text": [
      "请输入你想要的三角形的层数：  5\n"
     ]
    },
    {
     "name": "stdout",
     "output_type": "stream",
     "text": [
      "            1\n",
      "          1  1\n",
      "        1  2  1\n",
      "      1  3  3  1\n",
      "    1  4  6  4  1\n"
     ]
    }
   ],
   "source": [
    "row = int(input(\"请输入你想要的三角形的层数： \"))\n",
    "A = [0, 1, 0]\n",
    "\n",
    "for i in range(n):\n",
    "    A = [A[j] + A[j+1] for j in range(i+1)]\n",
    "    print((row-i)* '  ', *A, sep=\"  \")\n",
    "\n",
    "    A.insert(0,0)\n",
    "    A.append(0)"
   ]
  },
  {
   "cell_type": "code",
   "execution_count": null,
   "id": "0e993203-32b3-4d95-8d99-c64a6893869a",
   "metadata": {},
   "outputs": [],
   "source": []
  }
 ],
 "metadata": {
  "kernelspec": {
   "display_name": "Python [conda env:base] *",
   "language": "python",
   "name": "conda-base-py"
  },
  "language_info": {
   "codemirror_mode": {
    "name": "ipython",
    "version": 3
   },
   "file_extension": ".py",
   "mimetype": "text/x-python",
   "name": "python",
   "nbconvert_exporter": "python",
   "pygments_lexer": "ipython3",
   "version": "3.12.7"
  }
 },
 "nbformat": 4,
 "nbformat_minor": 5
}
