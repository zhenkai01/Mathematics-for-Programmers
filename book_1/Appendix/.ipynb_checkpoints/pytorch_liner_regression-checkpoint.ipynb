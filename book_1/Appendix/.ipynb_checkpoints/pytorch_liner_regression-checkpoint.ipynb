{
 "cells": [
  {
   "attachments": {
    "131038cb-f370-4da4-a50a-97bbfb594a46.png": {
     "image/png": "[encoded data removed]"
    }
   },
   "cell_type": "markdown",
   "id": "6d9db992-56d8-43b1-a7d1-4b8fe5ee8e7c",
   "metadata": {},
   "source": [
    "线性回归是最基本的机器学习算法之一，用于预测一个连续值。\n",
    "\n",
    "线性回归是一种简单且常见的回归分析方法，目的是通过拟合一个线性函数来预测输出。\n",
    "\n",
    "对于一个简单的线性回归问题，模型可以表示为\n",
    "![image.png](attachment:131038cb-f370-4da4-a50a-97bbfb594a46.png)"
   ]
  },
  {
   "cell_type": "code",
   "execution_count": null,
   "id": "77ffea9c-6d94-4cc5-986b-d336fd1afba0",
   "metadata": {},
   "outputs": [],
   "source": []
  },
  {
   "cell_type": "code",
   "execution_count": 9,
   "id": "0b1eff55-d327-4bdb-8ad8-6698b6fef27b",
   "metadata": {},
   "outputs": [],
   "source": [
    "import torch \n",
    "import numpy as np\n",
    "import matplotlib.pyplot as plt"
   ]
  },
  {
   "cell_type": "code",
   "execution_count": 11,
   "id": "fedafccc-985c-424f-ab46-4ed32da30825",
   "metadata": {},
   "outputs": [
    {
     "name": "stdout",
     "output_type": "stream",
     "text": [
      "tensor([[ 1.9269,  1.4873],\n",
      "        [ 0.9007, -2.1055],\n",
      "        [ 0.6784, -1.2345],\n",
      "        [-0.0431, -1.6047],\n",
      "        [-0.7521,  1.6487]])\n",
      "tensor([12.4460, -0.4663,  1.7666, -0.9357,  7.4781])\n"
     ]
    }
   ],
   "source": [
    "# 随机种子确保每次运行结果一致\n",
    "torch.manual_seed(42)\n",
    "\n",
    "# 生成训练数据\n",
    "X = torch.randn(100, 2)\n",
    "true_w = torch.tensor([2.0, 3.0])\n",
    "true_b = 4.0\n",
    "Y = X @ true_w + true_b + torch.randn(100) * 0.1\n",
    "\n",
    "print(X[:5])\n",
    "print(Y[:5])"
   ]
  },
  {
   "cell_type": "code",
   "execution_count": 13,
   "id": "2f8f1084-20a3-4144-a428-b8ce3f9cd61f",
   "metadata": {},
   "outputs": [],
   "source": [
    "import torch.nn as nn"
   ]
  },
  {
   "cell_type": "code",
   "execution_count": 15,
   "id": "705f866c-3c83-4531-8daf-89c7219d2717",
   "metadata": {},
   "outputs": [],
   "source": [
    "# 定义线性回归模型\n",
    "class LinearRegressionModel(nn.Module):\n",
    "    def __init__(self):\n",
    "        super(LinearRegressionModel, self).__init__()\n",
    "        self.linear = nn.Linear(2,1)\n",
    "    def forward(self, x):\n",
    "        return self.linear(x)\n",
    "\n",
    "# 创建实例模型\n",
    "model = LinearRegressionModel()"
   ]
  },
  {
   "cell_type": "code",
   "execution_count": 17,
   "id": "b5592de8-2cf8-432f-895a-44fbb02db9aa",
   "metadata": {},
   "outputs": [],
   "source": [
    "# 损失函数 （均方误差）\n",
    "criterion = nn.MSELoss()\n",
    "\n",
    "# 优化器\n",
    "optimizer = torch.optim.SGD(model.parameters(), lr = 0.01)"
   ]
  },
  {
   "cell_type": "markdown",
   "id": "96446039-818c-4cd9-812b-8ec793f31308",
   "metadata": {},
   "source": [
    "训练模型\n",
    "在训练过程中，我们将执行以下步骤：\n",
    "\n",
    "1.使用输入数据 X 进行前向传播，得到预测值。\n",
    "\n",
    "2.计算损失（预测值与实际值之间的差异）。\n",
    "\n",
    "3.使用反向传播计算梯度。\n",
    "\n",
    "4.更新模型参数（权重和偏置）。\n",
    "\n",
    "我们将训练模型 1000 轮，并在每 100 轮打印一次损失。"
   ]
  },
  {
   "cell_type": "code",
   "execution_count": 20,
   "id": "eb42f8a6-ce7a-4739-8c67-1af418e2df0b",
   "metadata": {},
   "outputs": [
    {
     "name": "stdout",
     "output_type": "stream",
     "text": [
      "Epoch [100/1000], Loss: 0.4569\n",
      "Epoch [200/1000], Loss: 0.0142\n",
      "Epoch [300/1000], Loss: 0.0082\n",
      "Epoch [400/1000], Loss: 0.0081\n",
      "Epoch [500/1000], Loss: 0.0081\n",
      "Epoch [600/1000], Loss: 0.0081\n",
      "Epoch [700/1000], Loss: 0.0081\n",
      "Epoch [800/1000], Loss: 0.0081\n",
      "Epoch [900/1000], Loss: 0.0081\n",
      "Epoch [1000/1000], Loss: 0.0081\n"
     ]
    }
   ],
   "source": [
    "num_epochs = 1000\n",
    "for epoch in range(num_epochs):\n",
    "    model.train()\n",
    "    # 前向传播\n",
    "    predictions = model(X)\n",
    "    loss = criterion(predictions.squeeze(), Y)\n",
    "    # 反向传播\n",
    "    optimizer.zero_grad()\n",
    "    loss.backward()\n",
    "    optimizer.step()\n",
    "\n",
    "    #打印损失\n",
    "    if (epoch + 1)% 100 == 0:\n",
    "        print(f'Epoch [{epoch + 1}/1000], Loss: {loss.item():.4f}')\n",
    "    \n",
    "\n"
   ]
  },
  {
   "cell_type": "code",
   "execution_count": 22,
   "id": "f21862fe-9c2c-494e-bde6-cdd82a644144",
   "metadata": {},
   "outputs": [
    {
     "name": "stdout",
     "output_type": "stream",
     "text": [
      "Predicted weight: [[2.009702  2.9986038]]\n",
      "Predicted bias: [4.020908]\n"
     ]
    }
   ],
   "source": [
    "# 查看训练后的权重和偏置\n",
    "print(f'Predicted weight: {model.linear.weight.data.numpy()}')\n",
    "print(f'Predicted bias: {model.linear.bias.data.numpy()}')"
   ]
  },
  {
   "cell_type": "code",
   "execution_count": 24,
   "id": "5853ba8d-2aab-4607-b14f-d67274401162",
   "metadata": {},
   "outputs": [
    {
     "name": "stdout",
     "output_type": "stream",
     "text": [
      "Predicted weight: [[2.009702  2.9986038]]\n",
      "Predicted bias: [4.020908]\n"
     ]
    }
   ],
   "source": [
    "# 查看训练后的权重和偏置\n",
    "print(f'Predicted weight: {model.linear.weight.data.numpy()}')\n",
    "print(f'Predicted bias: {model.linear.bias.data.numpy()}')\n"
   ]
  },
  {
   "cell_type": "code",
   "execution_count": null,
   "id": "fe7c46b1-2ce0-4a22-b828-c5ba3541e9fe",
   "metadata": {},
   "outputs": [],
   "source": []
  },
  {
   "cell_type": "code",
   "execution_count": null,
   "id": "76c0d5a3-e8a0-4b42-96bb-079f33df4353",
   "metadata": {},
   "outputs": [],
   "source": []
  },
  {
   "cell_type": "code",
   "execution_count": null,
   "id": "9eea6e91-1350-4a9d-a150-ecf732e8a1d6",
   "metadata": {},
   "outputs": [],
   "source": []
  }
 ],
 "metadata": {
  "kernelspec": {
   "display_name": "Python [conda env:base] *",
   "language": "python",
   "name": "conda-base-py"
  },
  "language_info": {
   "codemirror_mode": {
    "name": "ipython",
    "version": 3
   },
   "file_extension": ".py",
   "mimetype": "text/x-python",
   "name": "python",
   "nbconvert_exporter": "python",
   "pygments_lexer": "ipython3",
   "version": "3.12.7"
  }
 },
 "nbformat": 4,
 "nbformat_minor": 5
}
