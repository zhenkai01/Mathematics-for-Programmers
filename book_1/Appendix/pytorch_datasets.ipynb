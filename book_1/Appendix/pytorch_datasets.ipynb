{
 "cells": [
  {
   "cell_type": "markdown",
   "id": "a6f39d60-a3c3-437d-b5be-0a92ec05e99f",
   "metadata": {},
   "source": [
    "在深度学习任务中，数据加载和处理是至关重要的一环。\n",
    "\n",
    "PyTorch 提供了强大的数据加载和处理工具，主要包括：\n",
    "\n",
    "* torch.utils.data.Dataset：数据集的抽象类，需要自定义并实现 __len__（数据集大小）和 __getitem__（按索引获取样本）。\n",
    "\n",
    "* torch.utils.data.TensorDataset：基于张量的数据集，适合处理数据-标签对，直接支持批处理和迭代。\n",
    "\n",
    "* torch.utils.data.DataLoader：封装 Dataset 的迭代器，提供批处理、数据打乱、多线程加载等功能，便于数据输入模型训练。\n",
    "\n",
    "* torchvision.datasets.ImageFolder：从文件夹加载图像数据，每个子文件夹代表一个类别，适用于图像分类任务。"
   ]
  },
  {
   "cell_type": "markdown",
   "id": "ec6cd2b3-c557-4c1d-b181-4dd87d990ee5",
   "metadata": {},
   "source": [
    "PyTorch 通过 torchvision.datasets 模块提供了许多常用的数据集，例如：\n",
    "\n",
    "* MNIST：手写数字图像数据集，用于图像分类任务。\n",
    "\n",
    "* CIFAR：包含 10 个类别、60000 张 32x32 的彩色图像数据集，用于图像分类任务。\n",
    "\n",
    "* COCO：通用物体检测、分割、关键点检测数据集，包含超过 330k 个图像和 2.5M 个目标实例的大规模数据集。\n",
    "\n",
    "* ImageNet：包含超过 1400 万张图像，用于图像分类和物体检测等任务。\n",
    "\n",
    "* STL-10：包含 100k 张 96x96 的彩色图像数据集，用于图像分类任务。\n",
    "\n",
    "* Cityscapes：包含 5000 张精细注释的城市街道场景图像，用于语义分割任务。\n",
    "\n",
    "* SQUAD：用于机器阅读理解任务的数据集。\n",
    "\n",
    "  \n",
    "以上数据集可以通过 torchvision.datasets 模块中的函数进行加载，也可以通过自定义的方式加载其他数据集。"
   ]
  },
  {
   "cell_type": "code",
   "execution_count": 4,
   "id": "64e954b8-0a34-4382-a1a8-ea3abdcd0938",
   "metadata": {},
   "outputs": [],
   "source": [
    "# Dataset 是 PyTorch 中用于数据集抽象的类。\n",
    "import torch\n",
    "from torch.utils.data import Dataset"
   ]
  },
  {
   "cell_type": "code",
   "execution_count": 8,
   "id": "75e606b5-9f64-4e34-a0f6-4d3c03593d38",
   "metadata": {},
   "outputs": [
    {
     "name": "stdout",
     "output_type": "stream",
     "text": [
      "数据集大小：  100\n",
      "第0个样本：  (tensor([-0.7846, -2.0115,  1.1344, -0.1920,  0.6623]), tensor(0))\n",
      "第0个样本的标签： tensor(0)\n"
     ]
    }
   ],
   "source": [
    "class MyDataset(Dataset):\n",
    "    def __init__(self, data, labels):\n",
    "        # 数据初始化\n",
    "        self.data = data\n",
    "        self.labels = labels\n",
    "\n",
    "    def __len__(self):\n",
    "        # 返回数据集的大小\n",
    "        return len(self.data)\n",
    "\n",
    "    def __getitem__(self, idx):\n",
    "        # 按索引返回数据和标签\n",
    "        sample = self.data[idx]\n",
    "        label = self.labels[idx]\n",
    "        return sample, label\n",
    "\n",
    "\n",
    "# 生成示例数据\n",
    "data = torch.randn(100, 5)  # 100 个样本，每个样本有 5 个特征\n",
    "labels = torch.randint(0, 2, (100,))  # 100 个标签，取值为 0 或 1\n",
    "\n",
    "# 实例化数据集\n",
    "dataset = MyDataset(data, labels)\n",
    "\n",
    "# 测试数据\n",
    "print(\"数据集大小： \", len(data))  \n",
    "print(\"第0个样本： \", dataset[0])\n",
    "print(\"第0个样本的标签：\", labels[0])"
   ]
  },
  {
   "cell_type": "code",
   "execution_count": 17,
   "id": "80218585-fbcf-41f1-962f-b88c9c405198",
   "metadata": {},
   "outputs": [
    {
     "name": "stdout",
     "output_type": "stream",
     "text": [
      "批次 1\n",
      "数据: tensor([[ 0.5918, -1.6066,  0.8331,  1.0275,  0.5360],\n",
      "        [-0.9193, -0.3057,  0.4550,  0.2188, -1.6957],\n",
      "        [ 0.4441, -1.3283, -0.3794,  1.9294,  0.0343],\n",
      "        [ 0.6481,  0.4386, -0.6177, -0.6980,  1.0279],\n",
      "        [-1.4598,  0.8592,  0.5620, -0.6764,  0.0909],\n",
      "        [-1.2711,  0.0726,  1.2691, -0.2820,  0.8002],\n",
      "        [ 0.3931,  0.4277,  1.2196, -1.0251,  0.6803],\n",
      "        [ 0.7258, -1.3867, -0.2223,  0.6812,  2.0169],\n",
      "        [ 0.4721, -1.2003,  0.8331,  2.2153,  1.0302],\n",
      "        [ 1.3101,  0.6708, -1.1799, -0.1685,  1.1165]])\n",
      "标签: tensor([0, 1, 0, 1, 1, 1, 1, 0, 0, 1])\n",
      "批次 2\n",
      "数据: tensor([[ 0.2007, -0.3181, -1.2759,  0.5157,  0.2088],\n",
      "        [-0.6246,  0.1202, -0.7655, -0.4429, -0.5134],\n",
      "        [-0.7184, -0.1589, -0.0243,  0.8474, -0.5594],\n",
      "        [ 0.1148,  0.9726, -0.5741,  0.2793,  0.2531],\n",
      "        [-0.0650, -0.6639, -0.2864, -0.3152,  1.7142],\n",
      "        [-0.4697, -0.3783, -0.3046, -0.0920, -0.1208],\n",
      "        [ 0.8554, -0.9507,  0.0170,  0.2815,  1.0621],\n",
      "        [ 0.7273, -1.7505,  0.3029, -0.2573, -0.1709],\n",
      "        [ 0.1619,  0.8226,  1.4297,  0.7453,  0.4277],\n",
      "        [ 0.6192, -0.7588,  0.2637,  1.8849,  0.5035]])\n",
      "标签: tensor([0, 1, 1, 1, 0, 0, 1, 0, 0, 1])\n",
      "批次 3\n",
      "数据: tensor([[ 0.0965,  1.1177, -0.1644, -0.2128,  0.1332],\n",
      "        [-0.3300,  1.1255, -0.3735, -0.8895,  1.0623],\n",
      "        [ 0.2990, -0.3703, -0.7044, -0.8171,  0.8714],\n",
      "        [ 0.0752,  1.8970, -0.8662, -1.1292,  2.5002],\n",
      "        [ 0.5923,  0.9557, -0.5862, -1.0560,  2.7121],\n",
      "        [ 0.3895,  0.3723, -0.4088, -0.8397,  0.1127],\n",
      "        [ 0.1221, -0.7008,  0.6676,  0.3547, -1.7066],\n",
      "        [ 1.6277, -1.2325, -0.2483,  0.6455, -2.0937],\n",
      "        [ 1.2721, -0.6937,  0.3660, -0.8415,  0.8365],\n",
      "        [ 0.9328,  0.2468, -1.3755, -0.4393, -0.2759]])\n",
      "标签: tensor([0, 1, 1, 0, 1, 1, 1, 1, 1, 0])\n"
     ]
    }
   ],
   "source": [
    "# 实例化DataLoader\n",
    "from torch.utils.data import DataLoader\n",
    "\n",
    "dataloader = DataLoader(dataset, batch_size=10, shuffle=True, num_workers=0)\n",
    "\n",
    "#遍历dataloader\n",
    "for batch_idx, (batch_data, batch_labels) in enumerate(dataloader):\n",
    "    print(f\"批次 {batch_idx + 1}\")\n",
    "    print(\"数据:\", batch_data)\n",
    "    print(\"标签:\", batch_labels)\n",
    "    if batch_idx == 2:  # 仅显示前 3 个批次\n",
    "        break"
   ]
  },
  {
   "cell_type": "code",
   "execution_count": 19,
   "id": "c47ef247-3fea-4c7d-908e-5cd87e343aab",
   "metadata": {},
   "outputs": [],
   "source": [
    "# Dataset 与 DataLoader 的自定义应用\n",
    "# 以下是一个将 CSV 文件 作为数据源，并通过自定义 Dataset 和 DataLoader 读取数据"
   ]
  },
  {
   "cell_type": "code",
   "execution_count": 21,
   "id": "8faf5046-af93-4431-8766-799a6acb229b",
   "metadata": {},
   "outputs": [],
   "source": [
    "import torch\n",
    "import pandas as pd\n",
    "from torch.utils.data import Dataset, DataLoader"
   ]
  },
  {
   "cell_type": "code",
   "execution_count": 25,
   "id": "d037ded1-8918-4d3a-a9c1-f8b2d439894a",
   "metadata": {},
   "outputs": [
    {
     "name": "stdout",
     "output_type": "stream",
     "text": [
      "特征: tensor([[ 2.1000, -3.3000,  0.0000],\n",
      "        [-0.8000,  0.0000,  0.3000],\n",
      "        [ 0.5000, -1.2000,  3.3000],\n",
      "        [ 0.9000, -0.5000, -1.8000]])\n",
      "标签: tensor([[ 2.1000, -3.3000,  0.0000],\n",
      "        [-0.8000,  0.0000,  0.3000],\n",
      "        [ 0.5000, -1.2000,  3.3000],\n",
      "        [ 0.9000, -0.5000, -1.8000]])\n"
     ]
    },
    {
     "name": "stderr",
     "output_type": "stream",
     "text": [
      "C:\\Users\\kai\\AppData\\Local\\Temp\\ipykernel_12464\\648897167.py:15: FutureWarning: Series.__getitem__ treating keys as positions is deprecated. In a future version, integer keys will always be treated as labels (consistent with DataFrame behavior). To access a value by position, use `ser.iloc[pos]`\n",
      "  label = torch.tensor(row[:-1], dtype=torch.float32)\n"
     ]
    }
   ],
   "source": [
    "# 自定义CSV数据集\n",
    "class CSVDataset(Dataset):\n",
    "    def __init__(self, file_path):\n",
    "        # 读取CSV文件\n",
    "        self.data = pd.read_csv(file_path)\n",
    "\n",
    "    def __len__(self):\n",
    "        return len(self.data)\n",
    "\n",
    "    def __getitem__(self, idx):\n",
    "        # 使用 .iloc 明确基于位置索引\n",
    "        row = self.data.iloc[idx]\n",
    "        # 将特征和标签分开\n",
    "        features = torch.tensor(row.iloc[:-1].to_numpy(), dtype=torch.float32)\n",
    "        label = torch.tensor(row[:-1], dtype=torch.float32)\n",
    "        return features, label\n",
    "\n",
    "# 实例化数据集和DataLoader\n",
    "dataset = CSVDataset(\"test_pytorch_data.csv\")\n",
    "dataloader = DataLoader(dataset, batch_size=4, shuffle=True)\n",
    "\n",
    "# 遍历 DataLoader\n",
    "for features, label in dataloader:\n",
    "    print(\"特征:\", features)\n",
    "    print(\"标签:\", label)\n",
    "    break"
   ]
  },
  {
   "cell_type": "code",
   "execution_count": null,
   "id": "7b6d6840-8567-4e04-babc-fc678f06e359",
   "metadata": {},
   "outputs": [],
   "source": []
  }
 ],
 "metadata": {
  "kernelspec": {
   "display_name": "Python [conda env:base] *",
   "language": "python",
   "name": "conda-base-py"
  },
  "language_info": {
   "codemirror_mode": {
    "name": "ipython",
    "version": 3
   },
   "file_extension": ".py",
   "mimetype": "text/x-python",
   "name": "python",
   "nbconvert_exporter": "python",
   "pygments_lexer": "ipython3",
   "version": "3.12.7"
  }
 },
 "nbformat": 4,
 "nbformat_minor": 5
}
