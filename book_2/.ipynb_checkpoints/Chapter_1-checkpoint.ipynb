{
 "cells": [
  {
   "cell_type": "code",
   "execution_count": 1,
   "id": "63646e89-ca30-4ebc-8100-be8a05f6bf6d",
   "metadata": {},
   "outputs": [],
   "source": [
    "# 蒙提霍尔问题的模拟\n",
    "\n",
    "# 蒙提霍尔问题（Monty Hall Problem）也称为“三门问题”，是一个很有意思的反直觉概率问题。\n"
   ]
  },
  {
   "cell_type": "code",
   "execution_count": 5,
   "id": "390cc7c4-1255-48d8-bb22-de42b1153333",
   "metadata": {},
   "outputs": [],
   "source": [
    "# '''\n",
    "# 有三扇门，其中两扇门后面是山羊，另外一扇门后面是一辆汽车，现在你可以随机选择一扇门，如果打开后是汽车那么你就可以带走汽车，否则你什么也得不到，\n",
    "# 现在假如你选择了其中一扇门，在打开前，准确地知道三扇门后面各是什么的主持人蒙提霍尔会选择一扇门打开，并且他总是选择有山羊的一扇门打开，\n",
    "# 然后问你，要不要选择另外一扇门，那么为了最大概率地选中汽车，你是否应该选择换另外一扇门打开呢？\n",
    "# '''"
   ]
  },
  {
   "cell_type": "code",
   "execution_count": 7,
   "id": "a650f20d-cc4a-434a-b8b2-018c9dde9dff",
   "metadata": {},
   "outputs": [],
   "source": [
    "# 答案：\n",
    "# 1.如果第一次选择正确，重选必定错误。\n",
    "# 2.如果第一次选择错误，重选必定正确\n",
    "# 也就是说“第一次选择错误”的概率就是“重选后正确”的概率。即重选的正确率是2/3 ， 重选更加有利。"
   ]
  },
  {
   "cell_type": "code",
   "execution_count": 9,
   "id": "14d008f1-40e4-4afc-a7a0-fb6321a7112e",
   "metadata": {},
   "outputs": [],
   "source": [
    "import random"
   ]
  },
  {
   "cell_type": "code",
   "execution_count": 21,
   "id": "50d9bfa6-7eda-4d77-bdf7-00f6b0a2c2dd",
   "metadata": {},
   "outputs": [],
   "source": [
    "# 定义一个函数，返回坚持选择获得汽车，还是改变选择获得汽车\n",
    "def Monty_hall():\n",
    "    # 三个门的编号\n",
    "    doors = [0, 1, 2]\n",
    "    # 三个门对应的奖品\n",
    "    prize = [\"goat\", \"goat\", \"car\"]\n",
    "    # 主持人知道前两个门是山羊，被移除的门也会从 0 1之间选择\n",
    "    host_choices = [0, 1]\n",
    "    # 你随机选择一扇门\n",
    "    your_choice = random.choice(doors)\n",
    "    # 如果你选择第一扇门，主持人去掉第二扇门剩下[0, 2], 你改变策略的话就会选择另一扇门 2\n",
    "    if your_choice == 0:\n",
    "        door_removed = 1\n",
    "        change_choice = 1\n",
    "        \n",
    "    elif your_choice == 1:\n",
    "        door_removed = 0\n",
    "        change_choice = 1\n",
    "    else:\n",
    "        door_removed = random.choice(host_choices)\n",
    "        change_choice = 0\n",
    "    # 你做了选择之后主持人去掉了一扇门\n",
    "    doors.pop(door_removed)\n",
    "    # 如果坚持的话抽中汽车算一次\n",
    "    insist_result = int(prize[your_choice] == \"car\")\n",
    "    # 如果改变的话 抽中汽车算一次\n",
    "    change_result = int(prize[doors[change_choice]] == \"car\")\n",
    "\n",
    "    return (insist_result, change_result)"
   ]
  },
  {
   "cell_type": "code",
   "execution_count": 23,
   "id": "44b65e3e-e895-4677-8891-32b4033eef45",
   "metadata": {},
   "outputs": [
    {
     "name": "stdout",
     "output_type": "stream",
     "text": [
      "坚持选择，得到汽车的次数是:  33282\n",
      "改变选择，得到汽车的次数是:  66718\n"
     ]
    }
   ],
   "source": [
    "# 模拟实验看结果\n",
    "insist_win_count = 0\n",
    "change_win_count = 0\n",
    "for i in range(100000):\n",
    "    iw, cw = Monty_hall()\n",
    "    insist_win_count += iw\n",
    "    change_win_count += cw\n",
    "print(\"坚持选择，得到汽车的次数是: \",insist_win_count)\n",
    "print(\"改变选择，得到汽车的次数是: \",change_win_count)"
   ]
  },
  {
   "cell_type": "code",
   "execution_count": null,
   "id": "db84568b-0fe6-40eb-8f47-2517b1c1aa6c",
   "metadata": {},
   "outputs": [],
   "source": []
  }
 ],
 "metadata": {
  "kernelspec": {
   "display_name": "Python [conda env:base] *",
   "language": "python",
   "name": "conda-base-py"
  },
  "language_info": {
   "codemirror_mode": {
    "name": "ipython",
    "version": 3
   },
   "file_extension": ".py",
   "mimetype": "text/x-python",
   "name": "python",
   "nbconvert_exporter": "python",
   "pygments_lexer": "ipython3",
   "version": "3.12.7"
  }
 },
 "nbformat": 4,
 "nbformat_minor": 5
}
